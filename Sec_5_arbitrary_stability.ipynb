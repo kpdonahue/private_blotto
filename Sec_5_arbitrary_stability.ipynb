{
 "cells": [
  {
   "cell_type": "markdown",
   "id": "d7a75432",
   "metadata": {},
   "source": [
    "Code that finds a stable solution (if one exists) for arbitrary conditions (number of players vs. fronts, number of types). This code reproduces results for Section 5 (more fronts than agents), but also also reproduce results for Section 4 (more agents than fronts). This version of the code is significantly slower than Sec_4_more_players_than_fronts.ipynb. "
   ]
  },
  {
   "cell_type": "code",
   "execution_count": 1,
   "id": "b8e48462",
   "metadata": {},
   "outputs": [],
   "source": [
    "import numpy as np\n",
    "import pandas as pd\n",
    "import matplotlib.pyplot as plt\n",
    "import itertools\n",
    "from more_itertools import set_partitions\n",
    "import pickle\n",
    "import cProfile\n",
    "import pstats\n",
    "import time\n",
    "from math import ceil, floor\n",
    "import json"
   ]
  },
  {
   "cell_type": "code",
   "execution_count": 2,
   "id": "ab42edfd",
   "metadata": {},
   "outputs": [],
   "source": [
    "def arrangement_cost(player_biases = [0, 0], weights = [0.5, 0.5],  \n",
    "                     item_label_frame = pd.DataFrame(1, index = range(2), columns = range(2)), \n",
    "                     unlabeled_cost = 1000, outcome_rule = 'mean'):\n",
    "    '''\n",
    "    Calculate cost of players in an arrangement. \n",
    "    \n",
    "    Args:\n",
    "        player_biases: dataframe of biases of each player type\n",
    "        weights: dataframe of weights all players put on each front.  \n",
    "        item_label_frame: dataframe of where player is competing on each front\n",
    "        unlabeled_cost: cost of leaving an instance unlabeled.  \n",
    "        outcome_rule: rule for outcome of the front (median vs. mean)\n",
    "        \n",
    "    Returns:\n",
    "        dataframe of costs for all player types\n",
    "    \n",
    "    '''\n",
    "    \n",
    "    n_type = len(player_biases)\n",
    "    cost_store = [0] * n_type\n",
    "    M = len(weights) # number of fronts\n",
    "    outcome_store = [0] * M\n",
    "    \n",
    "    for front in range(M):\n",
    "        if item_label_frame.loc[front].sum()>0: # if there is at least one agent on that front\n",
    "            total_biases = np.repeat(player_biases, item_label_frame.loc[front].tolist())\n",
    "            if outcome_rule == 'mean':\n",
    "                outcome_store[front] = np.mean(total_biases)\n",
    "            elif outcome_rule == 'median':\n",
    "                outcome_store[front] = np.median(total_biases)\n",
    "        \n",
    "    for player_type in range(n_type):\n",
    "        cost_store[player_type] = np.sum([weights[front] * np.abs(outcome - player_biases[player_type]) \n",
    "                                          if item_label_frame.loc[front].sum()>0 \n",
    "                                          else weights[front]*unlabeled_cost for \n",
    "                                          front, outcome in enumerate(outcome_store) ])\n",
    "\n",
    "    return cost_store\n",
    "\n",
    "def calculate_Nash(player_biases = [0, 0], n_players = [2, 2], weights = [0.5, 0.5], none_empty= False, \n",
    "                   unlabeled_cost = 1000, outcome_rule = 'mean'):\n",
    "    '''\n",
    "    Find all NE (if any exist). Every agent is required to compete in a front (no option to abstain). \n",
    "    \n",
    "    Args:\n",
    "        player_biases: list of biases of each labeler.\n",
    "        n_players: number of players of each type\n",
    "        weights: list of weights all players put on each front. \n",
    "        none_empty: boolean. If true, only consider arrangements where all fronts have at least one agent. \n",
    "        unlabeled_cost: cost of leaving an instance unlabeled.  \n",
    "        outcome_rule: rule for outcome of the front (median vs. mean)\n",
    "        \n",
    "    Returns:\n",
    "        dataframe of all arrangements, cost for all involved and whether it is stable\n",
    "    \n",
    "    '''\n",
    "    \n",
    "    n_type = len(player_biases)\n",
    "    M = len(weights) # number of fronts\n",
    "        \n",
    "    # list of length n_type, giving all possible arrangements of each type\n",
    "    arrange_by_type = [[part for part in itertools.combinations_with_replacement(range(M), n_players[i])]\n",
    "                       for i in range(n_type)]\n",
    "    # all possible arrangements of all types\n",
    "    all_combinations = list(itertools.product(*arrange_by_type))\n",
    "    if none_empty:\n",
    "        # only consider arrangements where all fronts have at least one agent\n",
    "        all_combinations = [comb_val for comb_val in all_combinations\n",
    "                       if np.all([str(mi) in str(comb_val) for mi in range(M)])]\n",
    "        if len(all_combinations) ==0:\n",
    "            raise Exception('Not enough agents to cover all fronts')\n",
    "    # store costs for each player type\n",
    "    store_costs = pd.DataFrame(index = range(len(list(all_combinations))), \n",
    "                               columns = range(n_type))\n",
    "    # reverse dictionary for arrangements\n",
    "    rev_dict = dict(zip(all_combinations, range(len(all_combinations))))\n",
    "    \n",
    "    # calculate error rate experienced by different players    \n",
    "    for arrange_i, arrangement in enumerate(all_combinations):\n",
    "        # make dataframe of player locations\n",
    "        item_label_frame = pd.DataFrame(0, index = range(M), columns = range(n_type))\n",
    "        for players_type, locs in enumerate(arrangement):\n",
    "            for loc in locs: # go through locations of all players of this type\n",
    "                item_label_frame.iloc[loc, players_type] += 1\n",
    "        store_costs.iloc[arrange_i, :] = arrangement_cost(player_biases = player_biases, weights = weights, \n",
    "                                                          item_label_frame = item_label_frame, \n",
    "                                                          outcome_rule = outcome_rule, \n",
    "                                                          unlabeled_cost = unlabeled_cost)\n",
    "        \n",
    "    store_costs['arrange'] = [str(comb) for comb in all_combinations]\n",
    "    # calculate which arrangements are stable\n",
    "    store_costs['stable'] = True #default to all arrangements being stable\n",
    "    for arrange_loc, arrangement in enumerate(all_combinations): # all combinations\n",
    "        for players_type, locs in enumerate(arrangement): # all groups of player types\n",
    "            for player_loc in list(np.unique(locs)): # consider unique players where the player type is\n",
    "                for item_val in range(M): # all alternative locations\n",
    "                    if item_val != player_loc:\n",
    "                        new_list =  list(locs)\n",
    "                        new_list.remove(player_loc)\n",
    "                        arrangement_copy = list(arrangement)\n",
    "                        arrangement_copy[players_type] = tuple(sorted([item_val] + new_list))\n",
    "                        # if none_empty = True, then can't move to arrangements that would leave fronts empty\n",
    "                        if tuple(arrangement_copy) in all_combinations: \n",
    "                            new_arrange_loc = rev_dict[tuple(arrangement_copy)]\n",
    "                            if (store_costs.loc[new_arrange_loc, players_type]< \n",
    "                                store_costs.loc[arrange_loc, players_type]):\n",
    "                                # if lower cost, this proves arrangement isn't stable. \n",
    "                                store_costs.loc[arrange_loc, 'stable'] = str(tuple(arrangement_copy)) \n",
    "                                break \n",
    "\n",
    "    return store_costs"
   ]
  },
  {
   "cell_type": "markdown",
   "id": "4ffb082e",
   "metadata": {},
   "source": [
    "Illustrating results in Section 5 (cases where no stable arrangement exists). "
   ]
  },
  {
   "cell_type": "code",
   "execution_count": 3,
   "id": "604f8e8c",
   "metadata": {},
   "outputs": [
    {
     "data": {
      "text/plain": [
       "False"
      ]
     },
     "execution_count": 3,
     "metadata": {},
     "output_type": "execute_result"
    }
   ],
   "source": [
    "# Illustrating Lemma 12 (parameters where no stable arrangement exists for median outcome)\n",
    "n_front = 4\n",
    "n_players = 3 # need n_players < n_front\n",
    "store_costs = calculate_Nash(player_biases = [1, -0.5], n_players = [1, n_players-1], \n",
    "                             weights = [1/n_front] * n_front, unlabeled_cost = 0.3, outcome_rule = 'median')\n",
    "np.any(store_costs['stable'] == True)"
   ]
  },
  {
   "cell_type": "code",
   "execution_count": 4,
   "id": "99cba132",
   "metadata": {},
   "outputs": [
    {
     "data": {
      "text/plain": [
       "False"
      ]
     },
     "execution_count": 4,
     "metadata": {},
     "output_type": "execute_result"
    }
   ],
   "source": [
    "# Illustrating Lemma 13 (parameters where no stable arrangement exists for mean outcome)\n",
    "n_front = 5\n",
    "n_players = 4 # need n_players < n_front\n",
    "store_costs = calculate_Nash(player_biases = [1, -0.5], n_players = [1, n_players-1], \n",
    "                             weights = [1/n_front] * n_front, unlabeled_cost = 0.2, outcome_rule = 'mean')\n",
    "np.any(store_costs['stable'] == True)"
   ]
  },
  {
   "cell_type": "code",
   "execution_count": 12,
   "id": "639920ed",
   "metadata": {},
   "outputs": [
    {
     "name": "stdout",
     "output_type": "stream",
     "text": [
      "[((0,), (1,), (2,)), ((0,), (2,), (1,)), ((1,), (0,), (2,)), ((1,), (2,), (0,)), ((2,), (0,), (1,)), ((2,), (1,), (0,))]\n",
      "[((0,), (1,), (2,)), ((0,), (2,), (1,)), ((1,), (0,), (2,)), ((1,), (2,), (0,)), ((2,), (0,), (1,)), ((2,), (1,), (0,))]\n",
      "[((0,), (1,), (2,)), ((0,), (2,), (1,)), ((1,), (0,), (2,)), ((1,), (2,), (0,)), ((2,), (0,), (1,)), ((2,), (1,), (0,))]\n",
      "[((0,), (1,), (2,)), ((0,), (2,), (1,)), ((1,), (0,), (2,)), ((1,), (2,), (0,)), ((2,), (0,), (1,)), ((2,), (1,), (0,))]\n",
      "[((0,), (1,), (0,)), ((0,), (2,), (0,)), ((1,), (0,), (1,)), ((1,), (2,), (1,)), ((2,), (0,), (2,)), ((2,), (1,), (2,))]\n",
      "[((0,), (1,), (0,)), ((0,), (2,), (0,)), ((1,), (0,), (1,)), ((1,), (2,), (1,)), ((2,), (0,), (2,)), ((2,), (1,), (2,))]\n",
      "[((0,), (1,), (2,)), ((0,), (2,), (1,)), ((1,), (0,), (2,)), ((1,), (2,), (0,)), ((2,), (0,), (1,)), ((2,), (1,), (0,))]\n",
      "[((0,), (1,), (2,)), ((0,), (2,), (1,)), ((1,), (0,), (2,)), ((1,), (2,), (0,)), ((2,), (0,), (1,)), ((2,), (1,), (0,))]\n",
      "[((0,), (1,), (2,)), ((0,), (2,), (1,)), ((1,), (0,), (2,)), ((1,), (2,), (0,)), ((2,), (0,), (1,)), ((2,), (1,), (0,))]\n",
      "[((0,), (0,), (0,)), ((1,), (1,), (1,)), ((2,), (2,), (2,))]\n"
     ]
    }
   ],
   "source": [
    "# Illustrating Lemma 14 (for 3 players, at least 4 fronts, arbitrary player biases, mean outcome, there is always\n",
    "# a stable arrangement)\n",
    "nsim = 10\n",
    "n_front = 4\n",
    "for _ in range(nsim):\n",
    "    store_costs = calculate_Nash(player_biases = np.random.rand(3).tolist(), n_players = [1] * 3, \n",
    "                                 weights = [1] * 3, unlabeled_cost = np.abs(np.random.rand(1)[0]), \n",
    "                                 outcome_rule = 'mean')\n",
    "    if np.any(store_costs['stable'] == True) == False: \n",
    "        print('no stable arrangement exists')\n",
    "    else:\n",
    "        # print which arrangement(s) are stable\n",
    "        # notation: (0,), (1,), (1,) means that player 0 is on front 0, and players 1 and 2 are on front 1\n",
    "        print([eval(arrange) for arrange in store_costs['arrange'][store_costs['stable'] == True].tolist()])"
   ]
  }
 ],
 "metadata": {
  "kernelspec": {
   "display_name": "Python 3 (ipykernel)",
   "language": "python",
   "name": "python3"
  },
  "language_info": {
   "codemirror_mode": {
    "name": "ipython",
    "version": 3
   },
   "file_extension": ".py",
   "mimetype": "text/x-python",
   "name": "python",
   "nbconvert_exporter": "python",
   "pygments_lexer": "ipython3",
   "version": "3.8.10"
  }
 },
 "nbformat": 4,
 "nbformat_minor": 5
}
